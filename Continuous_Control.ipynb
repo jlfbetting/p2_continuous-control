{
 "cells": [
  {
   "cell_type": "markdown",
   "metadata": {},
   "source": [
    "# Continuous Control\n",
    "\n",
    "---\n",
    "\n",
    "In this notebook, you will learn how to use the Unity ML-Agents environment for the second project of the [Deep Reinforcement Learning Nanodegree](https://www.udacity.com/course/deep-reinforcement-learning-nanodegree--nd893) program.\n",
    "\n",
    "### 1. Start the Environment\n",
    "\n",
    "We begin by importing the necessary packages.  If the code cell below returns an error, please revisit the project instructions to double-check that you have installed [Unity ML-Agents](https://github.com/Unity-Technologies/ml-agents/blob/master/docs/Installation.md) and [NumPy](http://www.numpy.org/)."
   ]
  },
  {
   "cell_type": "code",
   "execution_count": 1,
   "metadata": {},
   "outputs": [],
   "source": [
    "from unityagents import UnityEnvironment\n",
    "import numpy as np\n",
    "from ddpg_agent import Agent\n",
    "from collections import deque\n",
    "import matplotlib.pyplot as plt"
   ]
  },
  {
   "cell_type": "markdown",
   "metadata": {},
   "source": [
    "Next, we will start the environment!  **_Before running the code cell below_**, change the `file_name` parameter to match the location of the Unity environment that you downloaded.\n",
    "\n",
    "- **Mac**: `\"path/to/Reacher.app\"`\n",
    "- **Windows** (x86): `\"path/to/Reacher_Windows_x86/Reacher.exe\"`\n",
    "- **Windows** (x86_64): `\"path/to/Reacher_Windows_x86_64/Reacher.exe\"`\n",
    "- **Linux** (x86): `\"path/to/Reacher_Linux/Reacher.x86\"`\n",
    "- **Linux** (x86_64): `\"path/to/Reacher_Linux/Reacher.x86_64\"`\n",
    "- **Linux** (x86, headless): `\"path/to/Reacher_Linux_NoVis/Reacher.x86\"`\n",
    "- **Linux** (x86_64, headless): `\"path/to/Reacher_Linux_NoVis/Reacher.x86_64\"`\n",
    "\n",
    "For instance, if you are using a Mac, then you downloaded `Reacher.app`.  If this file is in the same folder as the notebook, then the line below should appear as follows:\n",
    "```\n",
    "env = UnityEnvironment(file_name=\"Reacher.app\")\n",
    "```"
   ]
  },
  {
   "cell_type": "code",
   "execution_count": 2,
   "metadata": {},
   "outputs": [
    {
     "name": "stderr",
     "output_type": "stream",
     "text": [
      "INFO:unityagents:\n",
      "'Academy' started successfully!\n",
      "Unity Academy name: Academy\n",
      "        Number of Brains: 1\n",
      "        Number of External Brains : 1\n",
      "        Lesson number : 0\n",
      "        Reset Parameters :\n",
      "\t\tgoal_speed -> 1.0\n",
      "\t\tgoal_size -> 5.0\n",
      "Unity brain name: ReacherBrain\n",
      "        Number of Visual Observations (per agent): 0\n",
      "        Vector Observation space type: continuous\n",
      "        Vector Observation space size (per agent): 33\n",
      "        Number of stacked Vector Observation: 1\n",
      "        Vector Action space type: continuous\n",
      "        Vector Action space size (per agent): 4\n",
      "        Vector Action descriptions: , , , \n"
     ]
    }
   ],
   "source": [
    "env = UnityEnvironment(file_name='Reacher_Windows_x86_64/Reacher.exe')"
   ]
  },
  {
   "cell_type": "markdown",
   "metadata": {},
   "source": [
    "Environments contain **_brains_** which are responsible for deciding the actions of their associated agents. Here we check for the first brain available, and set it as the default brain we will be controlling from Python."
   ]
  },
  {
   "cell_type": "code",
   "execution_count": 3,
   "metadata": {},
   "outputs": [],
   "source": [
    "# get the default brain\n",
    "brain_name = env.brain_names[0]\n",
    "brain = env.brains[brain_name]"
   ]
  },
  {
   "cell_type": "markdown",
   "metadata": {},
   "source": [
    "### 2. Examine the State and Action Spaces\n",
    "\n",
    "In this environment, a double-jointed arm can move to target locations. A reward of `+0.1` is provided for each step that the agent's hand is in the goal location. Thus, the goal of your agent is to maintain its position at the target location for as many time steps as possible.\n",
    "\n",
    "The observation space consists of `33` variables corresponding to position, rotation, velocity, and angular velocities of the arm.  Each action is a vector with four numbers, corresponding to torque applicable to two joints.  Every entry in the action vector must be a number between `-1` and `1`.\n",
    "\n",
    "Run the code cell below to print some information about the environment."
   ]
  },
  {
   "cell_type": "code",
   "execution_count": 4,
   "metadata": {},
   "outputs": [
    {
     "name": "stdout",
     "output_type": "stream",
     "text": [
      "Number of agents: 1\n",
      "Size of each action: 4\n",
      "There are 1 agents. Each observes a state with length: 33\n",
      "The state for the first agent looks like: [ 0.00000000e+00 -4.00000000e+00  0.00000000e+00  1.00000000e+00\n",
      " -0.00000000e+00 -0.00000000e+00 -4.37113883e-08  0.00000000e+00\n",
      "  0.00000000e+00  0.00000000e+00  0.00000000e+00  0.00000000e+00\n",
      "  0.00000000e+00  0.00000000e+00 -1.00000000e+01  0.00000000e+00\n",
      "  1.00000000e+00 -0.00000000e+00 -0.00000000e+00 -4.37113883e-08\n",
      "  0.00000000e+00  0.00000000e+00  0.00000000e+00  0.00000000e+00\n",
      "  0.00000000e+00  0.00000000e+00  5.75471878e+00 -1.00000000e+00\n",
      "  5.55726671e+00  0.00000000e+00  1.00000000e+00  0.00000000e+00\n",
      " -1.68164849e-01]\n"
     ]
    }
   ],
   "source": [
    "# reset the environment\n",
    "env_info = env.reset(train_mode=True)[brain_name]\n",
    "\n",
    "# number of agents\n",
    "num_agents = len(env_info.agents)\n",
    "print('Number of agents:', num_agents)\n",
    "\n",
    "# size of each action\n",
    "action_size = brain.vector_action_space_size\n",
    "print('Size of each action:', action_size)\n",
    "\n",
    "# examine the state space \n",
    "states = env_info.vector_observations\n",
    "state_size = states.shape[1]\n",
    "print('There are {} agents. Each observes a state with length: {}'.format(states.shape[0], state_size))\n",
    "print('The state for the first agent looks like:', states[0])"
   ]
  },
  {
   "cell_type": "markdown",
   "metadata": {},
   "source": [
    "### 3. Take Random Actions in the Environment\n",
    "\n",
    "In the next code cell, you will learn how to use the Python API to control the agent and receive feedback from the environment.\n",
    "\n",
    "Once this cell is executed, you will watch the agent's performance, if it selects an action at random with each time step.  A window should pop up that allows you to observe the agent, as it moves through the environment.  \n",
    "\n",
    "Of course, as part of the project, you'll have to change the code so that the agent is able to use its experience to gradually choose better actions when interacting with the environment!"
   ]
  },
  {
   "cell_type": "raw",
   "metadata": {
    "pixiedust": {
     "displayParams": {}
    }
   },
   "source": [
    "%pdb off\n",
    "env_info = env.reset(train_mode=False)[brain_name]     # reset the environment    \n",
    "states = env_info.vector_observations                  # get the current state (for each agent)\n",
    "scores = np.zeros(num_agents)                          # initialize the score (for each agent)\n",
    "while True:\n",
    "    actions = np.random.randn(num_agents, action_size) # select an action (for each agent)\n",
    "    actions = np.clip(actions, -1, 1)                  # all actions between -1 and 1\n",
    "    env_info = env.step(actions)[brain_name]           # send all actions to tne environment\n",
    "    next_states = env_info.vector_observations         # get next state (for each agent)\n",
    "    rewards = env_info.rewards                         # get reward (for each agent)\n",
    "    dones = env_info.local_done                        # see if episode finished\n",
    "    scores += env_info.rewards                         # update the score (for each agent)\n",
    "    states = next_states                               # roll over states to next time step\n",
    "    if np.any(dones):                                  # exit loop if episode finished\n",
    "        break\n",
    "print('Total score (averaged over agents) this episode: {}'.format(np.mean(scores)))"
   ]
  },
  {
   "cell_type": "markdown",
   "metadata": {},
   "source": [
    "When finished, you can close the environment."
   ]
  },
  {
   "cell_type": "code",
   "execution_count": 5,
   "metadata": {},
   "outputs": [],
   "source": [
    "#env.close()"
   ]
  },
  {
   "cell_type": "markdown",
   "metadata": {},
   "source": [
    "### 4. It's Your Turn!\n",
    "\n",
    "Now it's your turn to train your own agent to solve the environment!  When training the environment, set `train_mode=True`, so that the line for resetting the environment looks like the following:\n",
    "```python\n",
    "env_info = env.reset(train_mode=True)[brain_name]\n",
    "```"
   ]
  },
  {
   "cell_type": "code",
   "execution_count": 6,
   "metadata": {},
   "outputs": [
    {
     "data": {
      "text/plain": [
       "33"
      ]
     },
     "execution_count": 6,
     "metadata": {},
     "output_type": "execute_result"
    }
   ],
   "source": [
    "state_size"
   ]
  },
  {
   "cell_type": "code",
   "execution_count": null,
   "metadata": {},
   "outputs": [],
   "source": []
  },
  {
   "cell_type": "code",
   "execution_count": 7,
   "metadata": {},
   "outputs": [],
   "source": [
    "# creating the configuration dictionary\n",
    "myConfig = {};\n",
    "myConfig[\"buffer_size\"] = int(1e5)  # replay buffer size\n",
    "myConfig[\"batch_size\"] = 256        # minibatch size\n",
    "myConfig[\"gamma\"] = 0.95            # discount factor\n",
    "myConfig[\"tau\"] = 5e-2              # for soft update of target parameters\n",
    "myConfig[\"lr_actor\"] = 1e-4         # learning rate of the actor \n",
    "myConfig[\"lr_critic\"] = 1e-4        # learning rate of the critic\n",
    "myConfig[\"weight_decay\"] = 0        # L2 weight decay\n",
    "myConfig[\"learn_every\"] = 100       # learn after this number of steps\n",
    "myConfig[\"learn_times\"] = 40        # number of sampling and training per cycle\n",
    "myConfig[\"state_size\"] = state_size\n",
    "myConfig[\"action_size\"] = action_size\n",
    "myConfig[\"random_seed\"] = 10"
   ]
  },
  {
   "cell_type": "code",
   "execution_count": 8,
   "metadata": {
    "scrolled": false
   },
   "outputs": [
    {
     "name": "stdout",
     "output_type": "stream",
     "text": [
      "Automatic pdb calling has been turned OFF\n",
      "Episode 1\tScore: 0.30\tAverage Score: 0.30\n",
      "Episode 2\tScore: 0.24\tAverage Score: 0.27\n",
      "Episode 3\tScore: 0.38\tAverage Score: 0.31\n",
      "Episode 4\tScore: 1.39\tAverage Score: 0.58\n",
      "Episode 5\tScore: 1.00\tAverage Score: 0.66\n",
      "Episode 6\tScore: 1.60\tAverage Score: 0.82\n",
      "Episode 7\tScore: 1.90\tAverage Score: 0.97\n",
      "Episode 8\tScore: 2.13\tAverage Score: 1.12\n",
      "Episode 9\tScore: 0.43\tAverage Score: 1.04\n",
      "Episode 10\tScore: 0.80\tAverage Score: 1.02\n",
      "Episode 11\tScore: 1.28\tAverage Score: 1.04\n",
      "Episode 12\tScore: 1.68\tAverage Score: 1.09\n",
      "Episode 13\tScore: 2.21\tAverage Score: 1.18\n",
      "Episode 14\tScore: 0.53\tAverage Score: 1.13\n",
      "Episode 15\tScore: 1.22\tAverage Score: 1.14\n",
      "Episode 16\tScore: 2.43\tAverage Score: 1.22\n",
      "Episode 17\tScore: 0.52\tAverage Score: 1.18\n",
      "Episode 18\tScore: 1.69\tAverage Score: 1.21\n",
      "Episode 19\tScore: 1.93\tAverage Score: 1.25\n",
      "Episode 20\tScore: 0.60\tAverage Score: 1.21\n",
      "Episode 21\tScore: 2.14\tAverage Score: 1.26\n",
      "Episode 22\tScore: 4.44\tAverage Score: 1.40\n",
      "Episode 23\tScore: 2.79\tAverage Score: 1.46\n",
      "Episode 24\tScore: 1.89\tAverage Score: 1.48\n",
      "Episode 25\tScore: 1.86\tAverage Score: 1.50\n",
      "Episode 26\tScore: 1.04\tAverage Score: 1.48\n",
      "Episode 27\tScore: 3.20\tAverage Score: 1.54\n",
      "Episode 28\tScore: 3.75\tAverage Score: 1.62\n",
      "Episode 29\tScore: 2.77\tAverage Score: 1.66\n",
      "Episode 30\tScore: 2.59\tAverage Score: 1.69\n",
      "Episode 31\tScore: 3.94\tAverage Score: 1.76\n",
      "Episode 32\tScore: 1.25\tAverage Score: 1.75\n",
      "Episode 33\tScore: 1.24\tAverage Score: 1.73\n",
      "Episode 34\tScore: 6.26\tAverage Score: 1.87\n",
      "Episode 35\tScore: 1.56\tAverage Score: 1.86\n",
      "Episode 36\tScore: 3.57\tAverage Score: 1.90\n",
      "Episode 37\tScore: 1.64\tAverage Score: 1.90\n",
      "Episode 38\tScore: 4.56\tAverage Score: 1.97\n",
      "Episode 39\tScore: 3.90\tAverage Score: 2.02\n",
      "Episode 40\tScore: 2.46\tAverage Score: 2.03\n",
      "Episode 41\tScore: 5.94\tAverage Score: 2.12\n",
      "Episode 42\tScore: 3.23\tAverage Score: 2.15\n",
      "Episode 43\tScore: 1.64\tAverage Score: 2.14\n",
      "Episode 44\tScore: 3.99\tAverage Score: 2.18\n",
      "Episode 45\tScore: 3.46\tAverage Score: 2.21\n",
      "Episode 46\tScore: 3.37\tAverage Score: 2.23\n",
      "Episode 47\tScore: 3.36\tAverage Score: 2.26\n",
      "Episode 48\tScore: 1.62\tAverage Score: 2.24\n",
      "Episode 49\tScore: 5.72\tAverage Score: 2.32\n",
      "Episode 50\tScore: 2.77\tAverage Score: 2.32\n",
      "Episode 51\tScore: 2.34\tAverage Score: 2.32\n",
      "Episode 52\tScore: 4.32\tAverage Score: 2.36\n",
      "Episode 53\tScore: 4.62\tAverage Score: 2.41\n",
      "Episode 54\tScore: 2.59\tAverage Score: 2.41\n",
      "Episode 55\tScore: 2.50\tAverage Score: 2.41\n",
      "Episode 56\tScore: 5.58\tAverage Score: 2.47\n",
      "Episode 57\tScore: 2.31\tAverage Score: 2.46\n",
      "Episode 58\tScore: 4.70\tAverage Score: 2.50\n",
      "Episode 59\tScore: 3.56\tAverage Score: 2.52\n",
      "Episode 60\tScore: 5.63\tAverage Score: 2.57\n",
      "Episode 61\tScore: 5.74\tAverage Score: 2.62\n",
      "Episode 62\tScore: 4.08\tAverage Score: 2.65\n",
      "Episode 63\tScore: 6.39\tAverage Score: 2.71\n",
      "Episode 64\tScore: 5.54\tAverage Score: 2.75\n",
      "Episode 65\tScore: 7.12\tAverage Score: 2.82\n",
      "Episode 66\tScore: 6.19\tAverage Score: 2.87\n",
      "Episode 67\tScore: 6.80\tAverage Score: 2.93\n",
      "Episode 68\tScore: 2.20\tAverage Score: 2.92\n",
      "Episode 69\tScore: 2.59\tAverage Score: 2.91\n",
      "Episode 70\tScore: 4.41\tAverage Score: 2.93\n",
      "Episode 71\tScore: 8.85\tAverage Score: 3.02\n",
      "Episode 72\tScore: 6.53\tAverage Score: 3.07\n",
      "Episode 73\tScore: 2.60\tAverage Score: 3.06\n",
      "Episode 74\tScore: 4.22\tAverage Score: 3.08\n",
      "Episode 75\tScore: 6.58\tAverage Score: 3.12\n",
      "Episode 76\tScore: 3.80\tAverage Score: 3.13\n",
      "Episode 77\tScore: 2.08\tAverage Score: 3.12\n",
      "Episode 78\tScore: 4.87\tAverage Score: 3.14\n",
      "Episode 79\tScore: 4.03\tAverage Score: 3.15\n",
      "Episode 80\tScore: 4.83\tAverage Score: 3.17\n",
      "Episode 81\tScore: 5.38\tAverage Score: 3.20\n",
      "Episode 82\tScore: 6.31\tAverage Score: 3.24\n",
      "Episode 83\tScore: 9.10\tAverage Score: 3.31\n",
      "Episode 84\tScore: 4.52\tAverage Score: 3.32\n",
      "Episode 85\tScore: 10.76\tAverage Score: 3.41\n",
      "Episode 86\tScore: 11.31\tAverage Score: 3.50\n",
      "Episode 87\tScore: 9.40\tAverage Score: 3.57\n",
      "Episode 88\tScore: 8.55\tAverage Score: 3.63\n",
      "Episode 89\tScore: 7.18\tAverage Score: 3.67\n",
      "Episode 90\tScore: 8.86\tAverage Score: 3.72\n",
      "Episode 91\tScore: 6.12\tAverage Score: 3.75\n",
      "Episode 92\tScore: 4.97\tAverage Score: 3.76\n",
      "Episode 93\tScore: 5.33\tAverage Score: 3.78\n",
      "Episode 94\tScore: 7.78\tAverage Score: 3.82\n",
      "Episode 95\tScore: 5.10\tAverage Score: 3.84\n",
      "Episode 96\tScore: 3.28\tAverage Score: 3.83\n",
      "Episode 97\tScore: 6.01\tAverage Score: 3.85\n",
      "Episode 98\tScore: 6.34\tAverage Score: 3.88\n",
      "Episode 99\tScore: 9.67\tAverage Score: 3.94\n",
      "Episode 100\tScore: 10.31\tAverage Score: 4.00\n",
      "Episode 101\tScore: 10.87\tAverage Score: 4.11\n",
      "Episode 102\tScore: 8.64\tAverage Score: 4.19\n",
      "Episode 103\tScore: 8.75\tAverage Score: 4.27\n",
      "Episode 104\tScore: 5.17\tAverage Score: 4.31\n",
      "Episode 105\tScore: 9.06\tAverage Score: 4.39\n",
      "Episode 106\tScore: 7.78\tAverage Score: 4.45\n",
      "Episode 107\tScore: 11.18\tAverage Score: 4.55\n",
      "Episode 108\tScore: 7.07\tAverage Score: 4.60\n",
      "Episode 109\tScore: 6.94\tAverage Score: 4.66\n",
      "Episode 110\tScore: 7.94\tAverage Score: 4.73\n",
      "Episode 111\tScore: 12.49\tAverage Score: 4.85\n",
      "Episode 112\tScore: 9.57\tAverage Score: 4.92\n",
      "Episode 113\tScore: 12.03\tAverage Score: 5.02\n",
      "Episode 114\tScore: 9.18\tAverage Score: 5.11\n",
      "Episode 115\tScore: 15.83\tAverage Score: 5.25\n",
      "Episode 116\tScore: 13.63\tAverage Score: 5.37\n",
      "Episode 117\tScore: 9.79\tAverage Score: 5.46\n",
      "Episode 118\tScore: 6.51\tAverage Score: 5.51\n",
      "Episode 119\tScore: 8.80\tAverage Score: 5.58\n",
      "Episode 120\tScore: 12.23\tAverage Score: 5.69\n",
      "Episode 121\tScore: 11.29\tAverage Score: 5.78\n",
      "Episode 122\tScore: 10.81\tAverage Score: 5.85\n",
      "Episode 123\tScore: 11.81\tAverage Score: 5.94\n",
      "Episode 124\tScore: 14.76\tAverage Score: 6.07\n",
      "Episode 125\tScore: 12.89\tAverage Score: 6.18\n",
      "Episode 126\tScore: 12.11\tAverage Score: 6.29\n",
      "Episode 127\tScore: 12.38\tAverage Score: 6.38\n",
      "Episode 128\tScore: 21.70\tAverage Score: 6.56\n",
      "Episode 129\tScore: 12.83\tAverage Score: 6.66\n",
      "Episode 130\tScore: 14.42\tAverage Score: 6.78\n",
      "Episode 131\tScore: 14.06\tAverage Score: 6.88\n",
      "Episode 132\tScore: 15.94\tAverage Score: 7.03\n",
      "Episode 133\tScore: 12.56\tAverage Score: 7.14\n",
      "Episode 134\tScore: 12.61\tAverage Score: 7.20\n",
      "Episode 135\tScore: 18.27\tAverage Score: 7.37\n",
      "Episode 136\tScore: 12.06\tAverage Score: 7.45\n",
      "Episode 137\tScore: 18.38\tAverage Score: 7.62\n",
      "Episode 138\tScore: 15.80\tAverage Score: 7.73\n",
      "Episode 139\tScore: 22.25\tAverage Score: 7.92\n",
      "Episode 140\tScore: 11.89\tAverage Score: 8.01\n",
      "Episode 141\tScore: 21.04\tAverage Score: 8.16\n",
      "Episode 142\tScore: 13.66\tAverage Score: 8.27\n",
      "Episode 143\tScore: 22.40\tAverage Score: 8.48\n",
      "Episode 144\tScore: 23.05\tAverage Score: 8.67\n",
      "Episode 145\tScore: 5.43\tAverage Score: 8.69\n",
      "Episode 146\tScore: 16.28\tAverage Score: 8.81\n",
      "Episode 147\tScore: 23.33\tAverage Score: 9.01\n",
      "Episode 148\tScore: 20.14\tAverage Score: 9.20\n",
      "Episode 149\tScore: 19.37\tAverage Score: 9.34\n",
      "Episode 150\tScore: 22.61\tAverage Score: 9.53\n",
      "Episode 151\tScore: 25.46\tAverage Score: 9.77\n",
      "Episode 152\tScore: 23.09\tAverage Score: 9.95\n",
      "Episode 153\tScore: 22.51\tAverage Score: 10.13\n",
      "Episode 154\tScore: 26.64\tAverage Score: 10.37\n",
      "Episode 155\tScore: 26.52\tAverage Score: 10.61\n",
      "Episode 156\tScore: 22.18\tAverage Score: 10.78\n",
      "Episode 157\tScore: 26.86\tAverage Score: 11.02\n",
      "Episode 158\tScore: 29.83\tAverage Score: 11.28\n",
      "Episode 159\tScore: 20.81\tAverage Score: 11.45\n",
      "Episode 160\tScore: 26.50\tAverage Score: 11.66\n",
      "Episode 161\tScore: 29.54\tAverage Score: 11.90\n",
      "Episode 162\tScore: 22.08\tAverage Score: 12.08\n",
      "Episode 163\tScore: 22.22\tAverage Score: 12.23\n",
      "Episode 164\tScore: 23.13\tAverage Score: 12.41\n",
      "Episode 165\tScore: 27.58\tAverage Score: 12.61\n",
      "Episode 166\tScore: 25.27\tAverage Score: 12.80\n",
      "Episode 167\tScore: 32.14\tAverage Score: 13.06\n",
      "Episode 168\tScore: 31.14\tAverage Score: 13.35\n",
      "Episode 169\tScore: 29.35\tAverage Score: 13.62\n",
      "Episode 170\tScore: 22.67\tAverage Score: 13.80\n",
      "Episode 171\tScore: 22.12\tAverage Score: 13.93\n",
      "Episode 172\tScore: 24.86\tAverage Score: 14.11\n",
      "Episode 173\tScore: 36.23\tAverage Score: 14.45\n",
      "Episode 174\tScore: 31.15\tAverage Score: 14.72\n",
      "Episode 175\tScore: 33.67\tAverage Score: 14.99\n",
      "Episode 176\tScore: 29.98\tAverage Score: 15.25\n",
      "Episode 177\tScore: 26.90\tAverage Score: 15.50\n",
      "Episode 178\tScore: 29.12\tAverage Score: 15.74\n",
      "Episode 179\tScore: 32.85\tAverage Score: 16.03\n",
      "Episode 180\tScore: 38.82\tAverage Score: 16.37\n",
      "Episode 181\tScore: 37.88\tAverage Score: 16.70\n",
      "Episode 182\tScore: 30.71\tAverage Score: 16.94\n",
      "Episode 183\tScore: 33.33\tAverage Score: 17.18\n",
      "Episode 184\tScore: 29.17\tAverage Score: 17.43\n",
      "Episode 185\tScore: 36.24\tAverage Score: 17.68\n",
      "Episode 186\tScore: 37.28\tAverage Score: 17.94\n"
     ]
    },
    {
     "name": "stdout",
     "output_type": "stream",
     "text": [
      "Episode 187\tScore: 39.42\tAverage Score: 18.24\n",
      "Episode 188\tScore: 37.93\tAverage Score: 18.54\n",
      "Episode 189\tScore: 37.16\tAverage Score: 18.84\n",
      "Episode 190\tScore: 25.42\tAverage Score: 19.00\n",
      "Episode 191\tScore: 38.62\tAverage Score: 19.33\n",
      "Episode 192\tScore: 37.52\tAverage Score: 19.65\n",
      "Episode 193\tScore: 38.85\tAverage Score: 19.99\n",
      "Episode 194\tScore: 39.48\tAverage Score: 20.31\n",
      "Episode 195\tScore: 34.88\tAverage Score: 20.60\n",
      "Episode 196\tScore: 22.90\tAverage Score: 20.80\n",
      "Episode 197\tScore: 39.56\tAverage Score: 21.13\n",
      "Episode 198\tScore: 37.75\tAverage Score: 21.45\n",
      "Episode 199\tScore: 37.93\tAverage Score: 21.73\n",
      "Episode 200\tScore: 26.32\tAverage Score: 21.89\n",
      "Episode 201\tScore: 36.10\tAverage Score: 22.14\n",
      "Episode 202\tScore: 38.25\tAverage Score: 22.44\n",
      "Episode 203\tScore: 36.03\tAverage Score: 22.71\n",
      "Episode 204\tScore: 37.87\tAverage Score: 23.04\n",
      "Episode 205\tScore: 39.40\tAverage Score: 23.34\n",
      "Episode 206\tScore: 37.14\tAverage Score: 23.64\n",
      "Episode 207\tScore: 37.76\tAverage Score: 23.90\n",
      "Episode 208\tScore: 39.37\tAverage Score: 24.23\n",
      "Episode 209\tScore: 35.38\tAverage Score: 24.51\n",
      "Episode 210\tScore: 39.03\tAverage Score: 24.82\n",
      "Episode 211\tScore: 33.26\tAverage Score: 25.03\n",
      "Episode 212\tScore: 35.54\tAverage Score: 25.29\n",
      "Episode 213\tScore: 36.45\tAverage Score: 25.53\n",
      "Episode 214\tScore: 39.37\tAverage Score: 25.83\n",
      "Episode 215\tScore: 39.29\tAverage Score: 26.07\n",
      "Episode 216\tScore: 39.48\tAverage Score: 26.33\n",
      "Episode 217\tScore: 38.40\tAverage Score: 26.61\n",
      "Episode 218\tScore: 38.34\tAverage Score: 26.93\n",
      "Episode 219\tScore: 36.76\tAverage Score: 27.21\n",
      "Episode 220\tScore: 36.77\tAverage Score: 27.46\n",
      "Episode 221\tScore: 38.40\tAverage Score: 27.73\n",
      "Episode 222\tScore: 37.60\tAverage Score: 28.00\n",
      "Episode 223\tScore: 38.43\tAverage Score: 28.26\n",
      "Episode 224\tScore: 38.01\tAverage Score: 28.49\n",
      "Episode 225\tScore: 38.97\tAverage Score: 28.76\n",
      "Episode 226\tScore: 37.33\tAverage Score: 29.01\n",
      "Episode 227\tScore: 36.49\tAverage Score: 29.25\n",
      "Episode 228\tScore: 38.22\tAverage Score: 29.41\n",
      "Episode 229\tScore: 38.80\tAverage Score: 29.67\n",
      "Episode 230\tScore: 38.57\tAverage Score: 29.92\n",
      "Episode 231\tScore: 31.19\tAverage Score: 30.09\n",
      "Environment SOLVED, results were saved.\n"
     ]
    }
   ],
   "source": [
    "%pdb off\n",
    "import torch\n",
    "#Taken from ddpg-pendulum notebook, just like the agent and model python files.\n",
    "def ddpg(n_episodes=10000, max_t=20000, print_every=100):\n",
    "    scores_deque = deque(maxlen=print_every)\n",
    "    scores = []\n",
    "    for i_episode in range(1, n_episodes+1):\n",
    "        env_info = env.reset(train_mode=True)[brain_name]\n",
    "        state = env_info.vector_observations[0]\n",
    "        agent.reset()\n",
    "        score = 0\n",
    "        for t in range(max_t):\n",
    "            action = agent.act(state)\n",
    "            env_info = env.step(action)[brain_name]\n",
    "            reward = env_info.rewards[0];\n",
    "            done = env_info.local_done[0];\n",
    "            next_state = env_info.vector_observations[0];\n",
    "            agent.step(state, action, reward, next_state, done)\n",
    "            state = next_state\n",
    "            score += reward\n",
    "            if done:\n",
    "                break \n",
    "        scores_deque.append(score)\n",
    "        scores.append(score)\n",
    "        print('\\rEpisode {}\\tScore: {:.2f}\\tAverage Score: {:.2f}'.format(i_episode, score, np.mean(scores_deque)))\n",
    "        if np.mean(scores_deque) > 30.0:\n",
    "            torch.save(agent.actor_local.state_dict(), 'checkpoint_actor.pth')\n",
    "            torch.save(agent.critic_local.state_dict(), 'checkpoint_critic.pth')\n",
    "            print('\\rEnvironment SOLVED, results were saved.');\n",
    "            break;\n",
    "            \n",
    "    return scores\n",
    "\n",
    "agent = Agent(config=myConfig)\n",
    "env_info = env.reset(train_mode=True)[brain_name]\n",
    "scores = ddpg()"
   ]
  },
  {
   "cell_type": "code",
   "execution_count": 9,
   "metadata": {},
   "outputs": [
    {
     "data": {
      "image/png": "[encoded data removed]",
      "text/plain": [
       "<Figure size 432x288 with 1 Axes>"
      ]
     },
     "metadata": {
      "needs_background": "light"
     },
     "output_type": "display_data"
    }
   ],
   "source": [
    "fig = plt.figure()\n",
    "ax = fig.add_subplot(111)\n",
    "plt.plot(np.arange(1, len(scores)+1), scores)\n",
    "plt.ylabel('Score')\n",
    "plt.xlabel('Episode #')\n",
    "plt.show()"
   ]
  },
  {
   "cell_type": "code",
   "execution_count": 10,
   "metadata": {},
   "outputs": [
    {
     "data": {
      "text/plain": [
       "{'ReacherBrain': <unityagents.brain.BrainInfo at 0x1f9a27a3128>}"
      ]
     },
     "execution_count": 10,
     "metadata": {},
     "output_type": "execute_result"
    }
   ],
   "source": [
    "env.reset()"
   ]
  },
  {
   "cell_type": "code",
   "execution_count": null,
   "metadata": {},
   "outputs": [],
   "source": []
  }
 ],
 "metadata": {
  "kernelspec": {
   "display_name": "drlnd",
   "language": "python",
   "name": "drlnd"
  },
  "language_info": {
   "codemirror_mode": {
    "name": "ipython",
    "version": 3
   },
   "file_extension": ".py",
   "mimetype": "text/x-python",
   "name": "python",
   "nbconvert_exporter": "python",
   "pygments_lexer": "ipython3",
   "version": "3.6.10"
  }
 },
 "nbformat": 4,
 "nbformat_minor": 2
}
